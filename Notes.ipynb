{
 "cells": [
  {
   "cell_type": "markdown",
   "metadata": {},
   "source": [
    "# 16.4.15\n",
    "\n",
    "1. grep -o : only show the part that matches;\n",
    ">grep -E  vs grep -P\n",
    "\n",
    "2. sed: stream editor   \n",
    "```bash\n",
    "nl test | sed -n '3,5p' #use sed to get specific lines with line#:\n",
    "sed -n -e '0~5p' re/numbers.txt  # starting from head, every 5\n",
    "sed -n -e '1,+5p' re/numbers.txt # starting from 1, continuous 5 lines\n",
    "sed -n -e '1,~5p' re/numbers.txt # starting from 1, ending at the multiplier of 5\n",
    "```\n",
    "3. nl: write file to std out, with line numbers\n",
    "\n",
    "4. cut and sort\n",
    "```bash\n",
    "cut -d ':' -f 3\n",
    "sort -t ':' -k 3 #-r reverse\n",
    "```\n"
   ]
  },
  {
   "cell_type": "code",
   "execution_count": 25,
   "metadata": {
    "collapsed": false
   },
   "outputs": [
    {
     "name": "stdout",
     "output_type": "stream",
     "text": [
      "\r\n",
      "\r\n",
      "aaa:x:1001:1001::/home/aaa:/bin/bash  \r\n",
      "ba:x:1002:1002::/home/zhangy:/bin/bash  \r\n",
      "bin:x:1:1:bin:/bin:/bin/false,aaa,bbbb,cccc,aaaaaa  \r\n",
      "@bio:*:1004:1004::/home/test:/bin/bash  \r\n",
      "bio:x:500:500:,,,:/home/bio:/bin/bash  \r\n",
      "DADddd:x:2:2:daemon:/sbin:/bin/false  \r\n",
      "dbus:x:81:81:System message bus:/:/bin/false  \r\n",
      "ftp:x:14:11:ftp:/home/ftp:/bin/false  \r\n",
      "hal:x:82:82:HAL daemon:/:/bin/false  \r\n",
      "http:x:33:33::/srv/http:/bin/false  \r\n",
      "mail:x:8:12:mail:/var/spool/mail:/bin/false  \r\n",
      "mysql:x:89:89::/var/lib/mysql:/bin/false  \r\n",
      "nobody:$:99:99:nobody:/:/bin/false  \r\n",
      "policykit:x:102:1005:Po\r\n",
      "root:x:0:0:root:/root:/bin/bash  \r\n",
      "test:x:1003:1003::/home/test:/bin/bash  \r\n"
     ]
    }
   ],
   "source": [
    "cat test | sort -t ':' -k 1"
   ]
  },
  {
   "cell_type": "code",
   "execution_count": null,
   "metadata": {
    "collapsed": true
   },
   "outputs": [],
   "source": []
  }
 ],
 "metadata": {
  "kernelspec": {
   "display_name": "Bash",
   "language": "bash",
   "name": "bash"
  },
  "language_info": {
   "codemirror_mode": "shell",
   "file_extension": ".sh",
   "mimetype": "text/x-sh",
   "name": "bash"
  }
 },
 "nbformat": 4,
 "nbformat_minor": 0
}
